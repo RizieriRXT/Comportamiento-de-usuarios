{
 "cells": [
  {
   "cell_type": "markdown",
   "metadata": {},
   "source": [
    "# Comportamiento de Usuarios"
   ]
  },
  {
   "cell_type": "markdown",
   "metadata": {},
   "source": [
    "## Paso 1. Carga y lectura de Archivos"
   ]
  },
  {
   "cell_type": "code",
   "execution_count": 1,
   "metadata": {},
   "outputs": [],
   "source": [
    "import pandas as pd\n",
    "import matplotlib.pyplot as plt\n",
    "import scipy.stats as stats"
   ]
  },
  {
   "cell_type": "code",
   "execution_count": 2,
   "metadata": {},
   "outputs": [],
   "source": [
    "logs = pd.read_csv(\"/datasets/logs_exp_us.csv\", sep = \"\\t\")"
   ]
  },
  {
   "cell_type": "code",
   "execution_count": 3,
   "metadata": {
    "scrolled": true
   },
   "outputs": [
    {
     "data": {
      "text/html": [
       "<div>\n",
       "<style scoped>\n",
       "    .dataframe tbody tr th:only-of-type {\n",
       "        vertical-align: middle;\n",
       "    }\n",
       "\n",
       "    .dataframe tbody tr th {\n",
       "        vertical-align: top;\n",
       "    }\n",
       "\n",
       "    .dataframe thead th {\n",
       "        text-align: right;\n",
       "    }\n",
       "</style>\n",
       "<table border=\"1\" class=\"dataframe\">\n",
       "  <thead>\n",
       "    <tr style=\"text-align: right;\">\n",
       "      <th></th>\n",
       "      <th>EventName</th>\n",
       "      <th>DeviceIDHash</th>\n",
       "      <th>EventTimestamp</th>\n",
       "      <th>ExpId</th>\n",
       "    </tr>\n",
       "  </thead>\n",
       "  <tbody>\n",
       "    <tr>\n",
       "      <th>0</th>\n",
       "      <td>MainScreenAppear</td>\n",
       "      <td>4575588528974610257</td>\n",
       "      <td>1564029816</td>\n",
       "      <td>246</td>\n",
       "    </tr>\n",
       "    <tr>\n",
       "      <th>1</th>\n",
       "      <td>MainScreenAppear</td>\n",
       "      <td>7416695313311560658</td>\n",
       "      <td>1564053102</td>\n",
       "      <td>246</td>\n",
       "    </tr>\n",
       "    <tr>\n",
       "      <th>2</th>\n",
       "      <td>PaymentScreenSuccessful</td>\n",
       "      <td>3518123091307005509</td>\n",
       "      <td>1564054127</td>\n",
       "      <td>248</td>\n",
       "    </tr>\n",
       "    <tr>\n",
       "      <th>3</th>\n",
       "      <td>CartScreenAppear</td>\n",
       "      <td>3518123091307005509</td>\n",
       "      <td>1564054127</td>\n",
       "      <td>248</td>\n",
       "    </tr>\n",
       "    <tr>\n",
       "      <th>4</th>\n",
       "      <td>PaymentScreenSuccessful</td>\n",
       "      <td>6217807653094995999</td>\n",
       "      <td>1564055322</td>\n",
       "      <td>248</td>\n",
       "    </tr>\n",
       "    <tr>\n",
       "      <th>...</th>\n",
       "      <td>...</td>\n",
       "      <td>...</td>\n",
       "      <td>...</td>\n",
       "      <td>...</td>\n",
       "    </tr>\n",
       "    <tr>\n",
       "      <th>244121</th>\n",
       "      <td>MainScreenAppear</td>\n",
       "      <td>4599628364049201812</td>\n",
       "      <td>1565212345</td>\n",
       "      <td>247</td>\n",
       "    </tr>\n",
       "    <tr>\n",
       "      <th>244122</th>\n",
       "      <td>MainScreenAppear</td>\n",
       "      <td>5849806612437486590</td>\n",
       "      <td>1565212439</td>\n",
       "      <td>246</td>\n",
       "    </tr>\n",
       "    <tr>\n",
       "      <th>244123</th>\n",
       "      <td>MainScreenAppear</td>\n",
       "      <td>5746969938801999050</td>\n",
       "      <td>1565212483</td>\n",
       "      <td>246</td>\n",
       "    </tr>\n",
       "    <tr>\n",
       "      <th>244124</th>\n",
       "      <td>MainScreenAppear</td>\n",
       "      <td>5746969938801999050</td>\n",
       "      <td>1565212498</td>\n",
       "      <td>246</td>\n",
       "    </tr>\n",
       "    <tr>\n",
       "      <th>244125</th>\n",
       "      <td>OffersScreenAppear</td>\n",
       "      <td>5746969938801999050</td>\n",
       "      <td>1565212517</td>\n",
       "      <td>246</td>\n",
       "    </tr>\n",
       "  </tbody>\n",
       "</table>\n",
       "<p>244126 rows × 4 columns</p>\n",
       "</div>"
      ],
      "text/plain": [
       "                      EventName         DeviceIDHash  EventTimestamp  ExpId\n",
       "0              MainScreenAppear  4575588528974610257      1564029816    246\n",
       "1              MainScreenAppear  7416695313311560658      1564053102    246\n",
       "2       PaymentScreenSuccessful  3518123091307005509      1564054127    248\n",
       "3              CartScreenAppear  3518123091307005509      1564054127    248\n",
       "4       PaymentScreenSuccessful  6217807653094995999      1564055322    248\n",
       "...                         ...                  ...             ...    ...\n",
       "244121         MainScreenAppear  4599628364049201812      1565212345    247\n",
       "244122         MainScreenAppear  5849806612437486590      1565212439    246\n",
       "244123         MainScreenAppear  5746969938801999050      1565212483    246\n",
       "244124         MainScreenAppear  5746969938801999050      1565212498    246\n",
       "244125       OffersScreenAppear  5746969938801999050      1565212517    246\n",
       "\n",
       "[244126 rows x 4 columns]"
      ]
     },
     "execution_count": 3,
     "metadata": {},
     "output_type": "execute_result"
    }
   ],
   "source": [
    "logs"
   ]
  },
  {
   "cell_type": "markdown",
   "metadata": {},
   "source": [
    "## Paso 2. Preparacion de los datos"
   ]
  },
  {
   "cell_type": "code",
   "execution_count": 4,
   "metadata": {},
   "outputs": [
    {
     "name": "stdout",
     "output_type": "stream",
     "text": [
      "<class 'pandas.core.frame.DataFrame'>\n",
      "RangeIndex: 244126 entries, 0 to 244125\n",
      "Data columns (total 4 columns):\n",
      " #   Column          Non-Null Count   Dtype \n",
      "---  ------          --------------   ----- \n",
      " 0   EventName       244126 non-null  object\n",
      " 1   DeviceIDHash    244126 non-null  int64 \n",
      " 2   EventTimestamp  244126 non-null  int64 \n",
      " 3   ExpId           244126 non-null  int64 \n",
      "dtypes: int64(3), object(1)\n",
      "memory usage: 7.5+ MB\n"
     ]
    }
   ],
   "source": [
    "logs.info()"
   ]
  },
  {
   "cell_type": "markdown",
   "metadata": {},
   "source": [
    "Se modificaran los nombres de las columnas y cambiara el tipo de dato de la variable EventTimestamp"
   ]
  },
  {
   "cell_type": "code",
   "execution_count": 5,
   "metadata": {},
   "outputs": [],
   "source": [
    "logs.columns = [\"evento\", \"usuario\", \"timestamp\", \"exp_id\"] #Se modifican los nombres d elas columnas"
   ]
  },
  {
   "cell_type": "code",
   "execution_count": 6,
   "metadata": {},
   "outputs": [],
   "source": [
    "logs[\"fecha_evento\"] = pd.to_datetime(logs[\"timestamp\"], unit = \"s\") #Se modifica el tipo de dato por uno de tipo fecha\n"
   ]
  },
  {
   "cell_type": "code",
   "execution_count": 7,
   "metadata": {},
   "outputs": [],
   "source": [
    "logs[\"dia\"] = logs[\"fecha_evento\"].dt.floor(\"1D\") # Se crea la columna con unicamente la fecha sin incluir la hora"
   ]
  },
  {
   "cell_type": "code",
   "execution_count": 8,
   "metadata": {},
   "outputs": [
    {
     "data": {
      "text/html": [
       "<div>\n",
       "<style scoped>\n",
       "    .dataframe tbody tr th:only-of-type {\n",
       "        vertical-align: middle;\n",
       "    }\n",
       "\n",
       "    .dataframe tbody tr th {\n",
       "        vertical-align: top;\n",
       "    }\n",
       "\n",
       "    .dataframe thead th {\n",
       "        text-align: right;\n",
       "    }\n",
       "</style>\n",
       "<table border=\"1\" class=\"dataframe\">\n",
       "  <thead>\n",
       "    <tr style=\"text-align: right;\">\n",
       "      <th></th>\n",
       "      <th>evento</th>\n",
       "      <th>usuario</th>\n",
       "      <th>timestamp</th>\n",
       "      <th>exp_id</th>\n",
       "      <th>fecha_evento</th>\n",
       "      <th>dia</th>\n",
       "    </tr>\n",
       "  </thead>\n",
       "  <tbody>\n",
       "    <tr>\n",
       "      <th>0</th>\n",
       "      <td>MainScreenAppear</td>\n",
       "      <td>4575588528974610257</td>\n",
       "      <td>1564029816</td>\n",
       "      <td>246</td>\n",
       "      <td>2019-07-25 04:43:36</td>\n",
       "      <td>2019-07-25</td>\n",
       "    </tr>\n",
       "    <tr>\n",
       "      <th>1</th>\n",
       "      <td>MainScreenAppear</td>\n",
       "      <td>7416695313311560658</td>\n",
       "      <td>1564053102</td>\n",
       "      <td>246</td>\n",
       "      <td>2019-07-25 11:11:42</td>\n",
       "      <td>2019-07-25</td>\n",
       "    </tr>\n",
       "    <tr>\n",
       "      <th>2</th>\n",
       "      <td>PaymentScreenSuccessful</td>\n",
       "      <td>3518123091307005509</td>\n",
       "      <td>1564054127</td>\n",
       "      <td>248</td>\n",
       "      <td>2019-07-25 11:28:47</td>\n",
       "      <td>2019-07-25</td>\n",
       "    </tr>\n",
       "    <tr>\n",
       "      <th>3</th>\n",
       "      <td>CartScreenAppear</td>\n",
       "      <td>3518123091307005509</td>\n",
       "      <td>1564054127</td>\n",
       "      <td>248</td>\n",
       "      <td>2019-07-25 11:28:47</td>\n",
       "      <td>2019-07-25</td>\n",
       "    </tr>\n",
       "    <tr>\n",
       "      <th>4</th>\n",
       "      <td>PaymentScreenSuccessful</td>\n",
       "      <td>6217807653094995999</td>\n",
       "      <td>1564055322</td>\n",
       "      <td>248</td>\n",
       "      <td>2019-07-25 11:48:42</td>\n",
       "      <td>2019-07-25</td>\n",
       "    </tr>\n",
       "    <tr>\n",
       "      <th>...</th>\n",
       "      <td>...</td>\n",
       "      <td>...</td>\n",
       "      <td>...</td>\n",
       "      <td>...</td>\n",
       "      <td>...</td>\n",
       "      <td>...</td>\n",
       "    </tr>\n",
       "    <tr>\n",
       "      <th>244121</th>\n",
       "      <td>MainScreenAppear</td>\n",
       "      <td>4599628364049201812</td>\n",
       "      <td>1565212345</td>\n",
       "      <td>247</td>\n",
       "      <td>2019-08-07 21:12:25</td>\n",
       "      <td>2019-08-07</td>\n",
       "    </tr>\n",
       "    <tr>\n",
       "      <th>244122</th>\n",
       "      <td>MainScreenAppear</td>\n",
       "      <td>5849806612437486590</td>\n",
       "      <td>1565212439</td>\n",
       "      <td>246</td>\n",
       "      <td>2019-08-07 21:13:59</td>\n",
       "      <td>2019-08-07</td>\n",
       "    </tr>\n",
       "    <tr>\n",
       "      <th>244123</th>\n",
       "      <td>MainScreenAppear</td>\n",
       "      <td>5746969938801999050</td>\n",
       "      <td>1565212483</td>\n",
       "      <td>246</td>\n",
       "      <td>2019-08-07 21:14:43</td>\n",
       "      <td>2019-08-07</td>\n",
       "    </tr>\n",
       "    <tr>\n",
       "      <th>244124</th>\n",
       "      <td>MainScreenAppear</td>\n",
       "      <td>5746969938801999050</td>\n",
       "      <td>1565212498</td>\n",
       "      <td>246</td>\n",
       "      <td>2019-08-07 21:14:58</td>\n",
       "      <td>2019-08-07</td>\n",
       "    </tr>\n",
       "    <tr>\n",
       "      <th>244125</th>\n",
       "      <td>OffersScreenAppear</td>\n",
       "      <td>5746969938801999050</td>\n",
       "      <td>1565212517</td>\n",
       "      <td>246</td>\n",
       "      <td>2019-08-07 21:15:17</td>\n",
       "      <td>2019-08-07</td>\n",
       "    </tr>\n",
       "  </tbody>\n",
       "</table>\n",
       "<p>244126 rows × 6 columns</p>\n",
       "</div>"
      ],
      "text/plain": [
       "                         evento              usuario   timestamp  exp_id  \\\n",
       "0              MainScreenAppear  4575588528974610257  1564029816     246   \n",
       "1              MainScreenAppear  7416695313311560658  1564053102     246   \n",
       "2       PaymentScreenSuccessful  3518123091307005509  1564054127     248   \n",
       "3              CartScreenAppear  3518123091307005509  1564054127     248   \n",
       "4       PaymentScreenSuccessful  6217807653094995999  1564055322     248   \n",
       "...                         ...                  ...         ...     ...   \n",
       "244121         MainScreenAppear  4599628364049201812  1565212345     247   \n",
       "244122         MainScreenAppear  5849806612437486590  1565212439     246   \n",
       "244123         MainScreenAppear  5746969938801999050  1565212483     246   \n",
       "244124         MainScreenAppear  5746969938801999050  1565212498     246   \n",
       "244125       OffersScreenAppear  5746969938801999050  1565212517     246   \n",
       "\n",
       "              fecha_evento        dia  \n",
       "0      2019-07-25 04:43:36 2019-07-25  \n",
       "1      2019-07-25 11:11:42 2019-07-25  \n",
       "2      2019-07-25 11:28:47 2019-07-25  \n",
       "3      2019-07-25 11:28:47 2019-07-25  \n",
       "4      2019-07-25 11:48:42 2019-07-25  \n",
       "...                    ...        ...  \n",
       "244121 2019-08-07 21:12:25 2019-08-07  \n",
       "244122 2019-08-07 21:13:59 2019-08-07  \n",
       "244123 2019-08-07 21:14:43 2019-08-07  \n",
       "244124 2019-08-07 21:14:58 2019-08-07  \n",
       "244125 2019-08-07 21:15:17 2019-08-07  \n",
       "\n",
       "[244126 rows x 6 columns]"
      ]
     },
     "execution_count": 8,
     "metadata": {},
     "output_type": "execute_result"
    }
   ],
   "source": [
    "logs"
   ]
  },
  {
   "cell_type": "code",
   "execution_count": 9,
   "metadata": {},
   "outputs": [
    {
     "name": "stdout",
     "output_type": "stream",
     "text": [
      "Hay un total de 413 datos duplicados\n"
     ]
    }
   ],
   "source": [
    "print( f\"Hay un total de {logs.duplicated().sum()} datos duplicados\") #Se calcula el total de datos duplicados "
   ]
  },
  {
   "cell_type": "code",
   "execution_count": 10,
   "metadata": {},
   "outputs": [],
   "source": [
    "logs.drop_duplicates(inplace=True) #Se eliminan los datos duplicasdos sobre la base original"
   ]
  },
  {
   "cell_type": "code",
   "execution_count": 11,
   "metadata": {},
   "outputs": [
    {
     "name": "stdout",
     "output_type": "stream",
     "text": [
      "Hay un total de 0 datos duplicados\n"
     ]
    }
   ],
   "source": [
    "print( f\"Hay un total de {logs.duplicated().sum()} datos duplicados\") #Se corrobora que ya no haya mas datos duplicadops\n"
   ]
  },
  {
   "cell_type": "code",
   "execution_count": 12,
   "metadata": {},
   "outputs": [
    {
     "data": {
      "text/plain": [
       "evento          0\n",
       "usuario         0\n",
       "timestamp       0\n",
       "exp_id          0\n",
       "fecha_evento    0\n",
       "dia             0\n",
       "dtype: int64"
      ]
     },
     "execution_count": 12,
     "metadata": {},
     "output_type": "execute_result"
    }
   ],
   "source": [
    "logs.isna().sum() #Se revisa si hay valores ausentes en la tabla"
   ]
  },
  {
   "cell_type": "markdown",
   "metadata": {},
   "source": [
    "## Paso 3. Analisis y comprobacion de tatos"
   ]
  },
  {
   "cell_type": "code",
   "execution_count": 13,
   "metadata": {},
   "outputs": [
    {
     "name": "stdout",
     "output_type": "stream",
     "text": [
      "Se tiene un totral de 243713 eventos registrados\n",
      "Con un total de 7551 usuarios unicos\n",
      "El promedio de eventos por usuario es de 32.28\n"
     ]
    }
   ],
   "source": [
    "print(f\"Se tiene un totral de {len(logs)} eventos registrados\")\n",
    "print(f\"Con un total de {len(logs['usuario'].unique())} usuarios unicos\")\n",
    "print(f\"El promedio de eventos por usuario es de {len(logs)/len(logs['usuario'].unique()):.2f}\")"
   ]
  },
  {
   "cell_type": "code",
   "execution_count": 14,
   "metadata": {},
   "outputs": [
    {
     "name": "stdout",
     "output_type": "stream",
     "text": [
      "Eventos del grupo 246: 80181, Usuarios: 2489, Promedio: 32.21 \n",
      "Eventos del grupo 247: 77950, Usuarios: 2520, Promedio: 30.93 \n",
      "Eventos del grupo 248: 85582, Usuarios: 2542, Promedio: 33.67 \n"
     ]
    }
   ],
   "source": [
    "print(f\"Eventos del grupo 246: {len(logs[logs['exp_id'] == 246])}, Usuarios: {len(logs[logs['exp_id'] == 246]['usuario'].unique())}, Promedio: {len(logs[logs['exp_id'] == 246])/len(logs[logs['exp_id'] == 246]['usuario'].unique()):.2f} \")\n",
    "print(f\"Eventos del grupo 247: {len(logs[logs['exp_id'] == 247])}, Usuarios: {len(logs[logs['exp_id'] == 247]['usuario'].unique())}, Promedio: {len(logs[logs['exp_id'] == 247])/len(logs[logs['exp_id'] == 247]['usuario'].unique()):.2f} \")\n",
    "print(f\"Eventos del grupo 248: {len(logs[logs['exp_id'] == 248])}, Usuarios: {len(logs[logs['exp_id'] == 248]['usuario'].unique())}, Promedio: {len(logs[logs['exp_id'] == 248])/len(logs[logs['exp_id'] == 248]['usuario'].unique()):.2f} \")"
   ]
  },
  {
   "cell_type": "code",
   "execution_count": 15,
   "metadata": {},
   "outputs": [
    {
     "name": "stdout",
     "output_type": "stream",
     "text": [
      "Los registros comienzan a partir de la fecha 2019-07-25 00:00:00 y terminan en  la fecha 2019-08-07 00:00:00.\n"
     ]
    }
   ],
   "source": [
    "print(f'Los registros comienzan a partir de la fecha {logs[\"dia\"].min()} y terminan en  la fecha {logs[\"dia\"].max()}.')\n",
    "#Se busca lka fecha minima y maxima para establecer el periodo de datos que se tiene"
   ]
  },
  {
   "cell_type": "code",
   "execution_count": 16,
   "metadata": {},
   "outputs": [
    {
     "data": {
      "text/plain": [
       "(array([18102., 18104., 18106., 18108., 18109., 18111., 18113., 18115.]),\n",
       " [Text(0, 0, ''),\n",
       "  Text(0, 0, ''),\n",
       "  Text(0, 0, ''),\n",
       "  Text(0, 0, ''),\n",
       "  Text(0, 0, ''),\n",
       "  Text(0, 0, ''),\n",
       "  Text(0, 0, ''),\n",
       "  Text(0, 0, '')])"
      ]
     },
     "execution_count": 16,
     "metadata": {},
     "output_type": "execute_result"
    },
    {
     "data": {
      "image/png": "[encoded data removed]",
      "text/plain": [
       "<Figure size 640x480 with 1 Axes>"
      ]
     },
     "metadata": {},
     "output_type": "display_data"
    }
   ],
   "source": [
    "logs[\"fecha_evento\"].hist(bins = 100) #generacion de historigrama\n",
    "plt.xticks(rotation=90) #rotacion de etiquetas en el eje x"
   ]
  },
  {
   "cell_type": "code",
   "execution_count": 17,
   "metadata": {},
   "outputs": [
    {
     "data": {
      "image/png": "[encoded data removed]",
      "text/plain": [
       "<Figure size 640x480 with 1 Axes>"
      ]
     },
     "metadata": {},
     "output_type": "display_data"
    }
   ],
   "source": [
    "logs.pivot_table( index = \"dia\", values = \"usuario\", aggfunc = \"count\").plot(style =\"o-\", grid = True) #Se grafica la tabla que que cuenta el numero de usuarios que interactuan por dia \n",
    "plt.xticks(rotation=45)  # Rota las etiquetas del eje X 45 grados\n",
    "plt.show()\n"
   ]
  },
  {
   "cell_type": "markdown",
   "metadata": {},
   "source": [
    "Los datos relevantes se muestran apartir del primero de agosto, por lo cual a partir de esa fecha se tiene que realizar el analisis"
   ]
  },
  {
   "cell_type": "code",
   "execution_count": 18,
   "metadata": {},
   "outputs": [],
   "source": [
    "datos_completos = logs.query(\"dia >= '2019-08-01'\") #Se filtran los datos de la tabla original con solo aquellos registors que esten apoartir del primero de agosto"
   ]
  },
  {
   "cell_type": "code",
   "execution_count": 19,
   "metadata": {},
   "outputs": [
    {
     "data": {
      "text/html": [
       "<div>\n",
       "<style scoped>\n",
       "    .dataframe tbody tr th:only-of-type {\n",
       "        vertical-align: middle;\n",
       "    }\n",
       "\n",
       "    .dataframe tbody tr th {\n",
       "        vertical-align: top;\n",
       "    }\n",
       "\n",
       "    .dataframe thead th {\n",
       "        text-align: right;\n",
       "    }\n",
       "</style>\n",
       "<table border=\"1\" class=\"dataframe\">\n",
       "  <thead>\n",
       "    <tr style=\"text-align: right;\">\n",
       "      <th></th>\n",
       "      <th>evento</th>\n",
       "      <th>usuario</th>\n",
       "      <th>timestamp</th>\n",
       "      <th>exp_id</th>\n",
       "      <th>fecha_evento</th>\n",
       "      <th>dia</th>\n",
       "    </tr>\n",
       "  </thead>\n",
       "  <tbody>\n",
       "    <tr>\n",
       "      <th>2828</th>\n",
       "      <td>Tutorial</td>\n",
       "      <td>3737462046622621720</td>\n",
       "      <td>1564618048</td>\n",
       "      <td>246</td>\n",
       "      <td>2019-08-01 00:07:28</td>\n",
       "      <td>2019-08-01</td>\n",
       "    </tr>\n",
       "    <tr>\n",
       "      <th>2829</th>\n",
       "      <td>MainScreenAppear</td>\n",
       "      <td>3737462046622621720</td>\n",
       "      <td>1564618080</td>\n",
       "      <td>246</td>\n",
       "      <td>2019-08-01 00:08:00</td>\n",
       "      <td>2019-08-01</td>\n",
       "    </tr>\n",
       "    <tr>\n",
       "      <th>2830</th>\n",
       "      <td>MainScreenAppear</td>\n",
       "      <td>3737462046622621720</td>\n",
       "      <td>1564618135</td>\n",
       "      <td>246</td>\n",
       "      <td>2019-08-01 00:08:55</td>\n",
       "      <td>2019-08-01</td>\n",
       "    </tr>\n",
       "    <tr>\n",
       "      <th>2831</th>\n",
       "      <td>OffersScreenAppear</td>\n",
       "      <td>3737462046622621720</td>\n",
       "      <td>1564618138</td>\n",
       "      <td>246</td>\n",
       "      <td>2019-08-01 00:08:58</td>\n",
       "      <td>2019-08-01</td>\n",
       "    </tr>\n",
       "    <tr>\n",
       "      <th>2832</th>\n",
       "      <td>MainScreenAppear</td>\n",
       "      <td>1433840883824088890</td>\n",
       "      <td>1564618139</td>\n",
       "      <td>247</td>\n",
       "      <td>2019-08-01 00:08:59</td>\n",
       "      <td>2019-08-01</td>\n",
       "    </tr>\n",
       "    <tr>\n",
       "      <th>...</th>\n",
       "      <td>...</td>\n",
       "      <td>...</td>\n",
       "      <td>...</td>\n",
       "      <td>...</td>\n",
       "      <td>...</td>\n",
       "      <td>...</td>\n",
       "    </tr>\n",
       "    <tr>\n",
       "      <th>244121</th>\n",
       "      <td>MainScreenAppear</td>\n",
       "      <td>4599628364049201812</td>\n",
       "      <td>1565212345</td>\n",
       "      <td>247</td>\n",
       "      <td>2019-08-07 21:12:25</td>\n",
       "      <td>2019-08-07</td>\n",
       "    </tr>\n",
       "    <tr>\n",
       "      <th>244122</th>\n",
       "      <td>MainScreenAppear</td>\n",
       "      <td>5849806612437486590</td>\n",
       "      <td>1565212439</td>\n",
       "      <td>246</td>\n",
       "      <td>2019-08-07 21:13:59</td>\n",
       "      <td>2019-08-07</td>\n",
       "    </tr>\n",
       "    <tr>\n",
       "      <th>244123</th>\n",
       "      <td>MainScreenAppear</td>\n",
       "      <td>5746969938801999050</td>\n",
       "      <td>1565212483</td>\n",
       "      <td>246</td>\n",
       "      <td>2019-08-07 21:14:43</td>\n",
       "      <td>2019-08-07</td>\n",
       "    </tr>\n",
       "    <tr>\n",
       "      <th>244124</th>\n",
       "      <td>MainScreenAppear</td>\n",
       "      <td>5746969938801999050</td>\n",
       "      <td>1565212498</td>\n",
       "      <td>246</td>\n",
       "      <td>2019-08-07 21:14:58</td>\n",
       "      <td>2019-08-07</td>\n",
       "    </tr>\n",
       "    <tr>\n",
       "      <th>244125</th>\n",
       "      <td>OffersScreenAppear</td>\n",
       "      <td>5746969938801999050</td>\n",
       "      <td>1565212517</td>\n",
       "      <td>246</td>\n",
       "      <td>2019-08-07 21:15:17</td>\n",
       "      <td>2019-08-07</td>\n",
       "    </tr>\n",
       "  </tbody>\n",
       "</table>\n",
       "<p>240887 rows × 6 columns</p>\n",
       "</div>"
      ],
      "text/plain": [
       "                    evento              usuario   timestamp  exp_id  \\\n",
       "2828              Tutorial  3737462046622621720  1564618048     246   \n",
       "2829      MainScreenAppear  3737462046622621720  1564618080     246   \n",
       "2830      MainScreenAppear  3737462046622621720  1564618135     246   \n",
       "2831    OffersScreenAppear  3737462046622621720  1564618138     246   \n",
       "2832      MainScreenAppear  1433840883824088890  1564618139     247   \n",
       "...                    ...                  ...         ...     ...   \n",
       "244121    MainScreenAppear  4599628364049201812  1565212345     247   \n",
       "244122    MainScreenAppear  5849806612437486590  1565212439     246   \n",
       "244123    MainScreenAppear  5746969938801999050  1565212483     246   \n",
       "244124    MainScreenAppear  5746969938801999050  1565212498     246   \n",
       "244125  OffersScreenAppear  5746969938801999050  1565212517     246   \n",
       "\n",
       "              fecha_evento        dia  \n",
       "2828   2019-08-01 00:07:28 2019-08-01  \n",
       "2829   2019-08-01 00:08:00 2019-08-01  \n",
       "2830   2019-08-01 00:08:55 2019-08-01  \n",
       "2831   2019-08-01 00:08:58 2019-08-01  \n",
       "2832   2019-08-01 00:08:59 2019-08-01  \n",
       "...                    ...        ...  \n",
       "244121 2019-08-07 21:12:25 2019-08-07  \n",
       "244122 2019-08-07 21:13:59 2019-08-07  \n",
       "244123 2019-08-07 21:14:43 2019-08-07  \n",
       "244124 2019-08-07 21:14:58 2019-08-07  \n",
       "244125 2019-08-07 21:15:17 2019-08-07  \n",
       "\n",
       "[240887 rows x 6 columns]"
      ]
     },
     "execution_count": 19,
     "metadata": {},
     "output_type": "execute_result"
    }
   ],
   "source": [
    "datos_completos # visualizacion"
   ]
  },
  {
   "cell_type": "code",
   "execution_count": 20,
   "metadata": {},
   "outputs": [
    {
     "data": {
      "text/plain": [
       "<AxesSubplot:>"
      ]
     },
     "execution_count": 20,
     "metadata": {},
     "output_type": "execute_result"
    },
    {
     "data": {
      "image/png": "[encoded data removed]",
      "text/plain": [
       "<Figure size 1400x500 with 1 Axes>"
      ]
     },
     "metadata": {},
     "output_type": "display_data"
    }
   ],
   "source": [
    "datos_completos[\"fecha_evento\"].hist(bins= 7*24, figsize=(14,5)) #se vuelve a graficar el historigrama de los registros por hora u fecha"
   ]
  },
  {
   "cell_type": "code",
   "execution_count": 21,
   "metadata": {},
   "outputs": [
    {
     "name": "stdout",
     "output_type": "stream",
     "text": [
      "Se tiene un totral de 240887 eventos registrados tras haber filtrado la fecha\n",
      "Con un total de 7534 usuarios unicos\n",
      "El promedio de eventos por usuario es de 31.97\n"
     ]
    }
   ],
   "source": [
    "print(f\"Se tiene un totral de {len(datos_completos)} eventos registrados tras haber filtrado la fecha\")\n",
    "print(f\"Con un total de {len(datos_completos['usuario'].unique())} usuarios unicos\")\n",
    "print(f\"El promedio de eventos por usuario es de {len(datos_completos)/len(datos_completos['usuario'].unique()):.2f}\")"
   ]
  },
  {
   "cell_type": "markdown",
   "metadata": {},
   "source": [
    "La cantidad de eventos totales en no disminullo en gran medida, unicamente se descartaron cerca de 3,000 eventos y elk numero de usuarios solo disminullo en 17, por lo cual solo se perdio el 0.2% de usuarios y el 1.1% de los eventos"
   ]
  },
  {
   "cell_type": "code",
   "execution_count": 22,
   "metadata": {},
   "outputs": [
    {
     "data": {
      "text/plain": [
       "248    84563\n",
       "246    79302\n",
       "247    77022\n",
       "Name: exp_id, dtype: int64"
      ]
     },
     "execution_count": 22,
     "metadata": {},
     "output_type": "execute_result"
    }
   ],
   "source": [
    "datos_completos[\"exp_id\"].value_counts() #Cantidad de eventos exparcidos en cada grupo"
   ]
  },
  {
   "cell_type": "code",
   "execution_count": 23,
   "metadata": {},
   "outputs": [
    {
     "name": "stdout",
     "output_type": "stream",
     "text": [
      "Eventos del grupo 246: 79302, Usuarios: 2484, Promedio: 31.93 \n",
      "Eventos del grupo 247: 77022, Usuarios: 2513, Promedio: 30.65 \n",
      "Eventos del grupo 248: 84563, Usuarios: 2537, Promedio: 33.33 \n"
     ]
    }
   ],
   "source": [
    "print(f\"Eventos del grupo 246: {len(datos_completos[datos_completos['exp_id'] == 246])}, Usuarios: {len(datos_completos[datos_completos['exp_id'] == 246]['usuario'].unique())}, Promedio: {len(datos_completos[datos_completos['exp_id'] == 246])/len(datos_completos[datos_completos['exp_id'] == 246]['usuario'].unique()):.2f} \")\n",
    "print(f\"Eventos del grupo 247: {len(datos_completos[datos_completos['exp_id'] == 247])}, Usuarios: {len(datos_completos[datos_completos['exp_id'] == 247]['usuario'].unique())}, Promedio: {len(datos_completos[datos_completos['exp_id'] == 247])/len(datos_completos[datos_completos['exp_id'] == 247]['usuario'].unique()):.2f} \")\n",
    "print(f\"Eventos del grupo 248: {len(datos_completos[datos_completos['exp_id'] == 248])}, Usuarios: {len(datos_completos[datos_completos['exp_id'] == 248]['usuario'].unique())}, Promedio: {len(datos_completos[datos_completos['exp_id'] == 248])/len(datos_completos[datos_completos['exp_id'] == 248]['usuario'].unique()):.2f} \")"
   ]
  },
  {
   "cell_type": "markdown",
   "metadata": {},
   "source": [
    "## Paso 4. Embudo de Eventos"
   ]
  },
  {
   "cell_type": "code",
   "execution_count": 24,
   "metadata": {},
   "outputs": [
    {
     "name": "stdout",
     "output_type": "stream",
     "text": [
      "['MainScreenAppear' 'PaymentScreenSuccessful' 'CartScreenAppear'\n",
      " 'OffersScreenAppear' 'Tutorial']\n"
     ]
    }
   ],
   "source": [
    "print(logs[\"evento\"].unique()) #Tipos de eventos unicos"
   ]
  },
  {
   "cell_type": "code",
   "execution_count": 25,
   "metadata": {},
   "outputs": [],
   "source": [
    "eventos = datos_completos.pivot_table(index=\"evento\", values = \"usuario\", aggfunc = \"count\").sort_values(\"usuario\", ascending = False) #creacion de tabla indexada por los tipos de eventos donde se cuenta el numero de interacciones con estas y ordenada de mayor a menor\n"
   ]
  },
  {
   "cell_type": "code",
   "execution_count": 26,
   "metadata": {},
   "outputs": [],
   "source": [
    "eventos.columns = [\"n_eventos\"] #renombramiento d ela columna"
   ]
  },
  {
   "cell_type": "code",
   "execution_count": 27,
   "metadata": {},
   "outputs": [
    {
     "data": {
      "text/html": [
       "<div>\n",
       "<style scoped>\n",
       "    .dataframe tbody tr th:only-of-type {\n",
       "        vertical-align: middle;\n",
       "    }\n",
       "\n",
       "    .dataframe tbody tr th {\n",
       "        vertical-align: top;\n",
       "    }\n",
       "\n",
       "    .dataframe thead th {\n",
       "        text-align: right;\n",
       "    }\n",
       "</style>\n",
       "<table border=\"1\" class=\"dataframe\">\n",
       "  <thead>\n",
       "    <tr style=\"text-align: right;\">\n",
       "      <th></th>\n",
       "      <th>n_eventos</th>\n",
       "    </tr>\n",
       "    <tr>\n",
       "      <th>evento</th>\n",
       "      <th></th>\n",
       "    </tr>\n",
       "  </thead>\n",
       "  <tbody>\n",
       "    <tr>\n",
       "      <th>MainScreenAppear</th>\n",
       "      <td>117328</td>\n",
       "    </tr>\n",
       "    <tr>\n",
       "      <th>OffersScreenAppear</th>\n",
       "      <td>46333</td>\n",
       "    </tr>\n",
       "    <tr>\n",
       "      <th>CartScreenAppear</th>\n",
       "      <td>42303</td>\n",
       "    </tr>\n",
       "    <tr>\n",
       "      <th>PaymentScreenSuccessful</th>\n",
       "      <td>33918</td>\n",
       "    </tr>\n",
       "    <tr>\n",
       "      <th>Tutorial</th>\n",
       "      <td>1005</td>\n",
       "    </tr>\n",
       "  </tbody>\n",
       "</table>\n",
       "</div>"
      ],
      "text/plain": [
       "                         n_eventos\n",
       "evento                            \n",
       "MainScreenAppear            117328\n",
       "OffersScreenAppear           46333\n",
       "CartScreenAppear             42303\n",
       "PaymentScreenSuccessful      33918\n",
       "Tutorial                      1005"
      ]
     },
     "execution_count": 27,
     "metadata": {},
     "output_type": "execute_result"
    }
   ],
   "source": [
    "eventos"
   ]
  },
  {
   "cell_type": "code",
   "execution_count": 28,
   "metadata": {},
   "outputs": [],
   "source": [
    "evento_usuario = datos_completos.pivot_table(index=\"evento\", values = \"usuario\", aggfunc = \"nunique\").sort_values(\"usuario\", ascending = False) #Se genera una tabla que muestra cuantos usuarios han pasado por cada evento al menos una vez"
   ]
  },
  {
   "cell_type": "code",
   "execution_count": 29,
   "metadata": {},
   "outputs": [
    {
     "data": {
      "text/html": [
       "<div>\n",
       "<style scoped>\n",
       "    .dataframe tbody tr th:only-of-type {\n",
       "        vertical-align: middle;\n",
       "    }\n",
       "\n",
       "    .dataframe tbody tr th {\n",
       "        vertical-align: top;\n",
       "    }\n",
       "\n",
       "    .dataframe thead th {\n",
       "        text-align: right;\n",
       "    }\n",
       "</style>\n",
       "<table border=\"1\" class=\"dataframe\">\n",
       "  <thead>\n",
       "    <tr style=\"text-align: right;\">\n",
       "      <th></th>\n",
       "      <th>usuario</th>\n",
       "    </tr>\n",
       "    <tr>\n",
       "      <th>evento</th>\n",
       "      <th></th>\n",
       "    </tr>\n",
       "  </thead>\n",
       "  <tbody>\n",
       "    <tr>\n",
       "      <th>MainScreenAppear</th>\n",
       "      <td>7419</td>\n",
       "    </tr>\n",
       "    <tr>\n",
       "      <th>OffersScreenAppear</th>\n",
       "      <td>4593</td>\n",
       "    </tr>\n",
       "    <tr>\n",
       "      <th>CartScreenAppear</th>\n",
       "      <td>3734</td>\n",
       "    </tr>\n",
       "    <tr>\n",
       "      <th>PaymentScreenSuccessful</th>\n",
       "      <td>3539</td>\n",
       "    </tr>\n",
       "    <tr>\n",
       "      <th>Tutorial</th>\n",
       "      <td>840</td>\n",
       "    </tr>\n",
       "  </tbody>\n",
       "</table>\n",
       "</div>"
      ],
      "text/plain": [
       "                         usuario\n",
       "evento                          \n",
       "MainScreenAppear            7419\n",
       "OffersScreenAppear          4593\n",
       "CartScreenAppear            3734\n",
       "PaymentScreenSuccessful     3539\n",
       "Tutorial                     840"
      ]
     },
     "execution_count": 29,
     "metadata": {},
     "output_type": "execute_result"
    }
   ],
   "source": [
    "evento_usuario"
   ]
  },
  {
   "cell_type": "markdown",
   "metadata": {},
   "source": [
    "La seccion de tutorial no tiene ninguna relacion con el proceso de compra de la pagin, por lo cual se podria omitir "
   ]
  },
  {
   "cell_type": "code",
   "execution_count": 30,
   "metadata": {},
   "outputs": [
    {
     "data": {
      "text/html": [
       "<div>\n",
       "<style scoped>\n",
       "    .dataframe tbody tr th:only-of-type {\n",
       "        vertical-align: middle;\n",
       "    }\n",
       "\n",
       "    .dataframe tbody tr th {\n",
       "        vertical-align: top;\n",
       "    }\n",
       "\n",
       "    .dataframe thead th {\n",
       "        text-align: right;\n",
       "    }\n",
       "</style>\n",
       "<table border=\"1\" class=\"dataframe\">\n",
       "  <thead>\n",
       "    <tr style=\"text-align: right;\">\n",
       "      <th></th>\n",
       "      <th>usuario</th>\n",
       "    </tr>\n",
       "    <tr>\n",
       "      <th>evento</th>\n",
       "      <th></th>\n",
       "    </tr>\n",
       "  </thead>\n",
       "  <tbody>\n",
       "    <tr>\n",
       "      <th>MainScreenAppear</th>\n",
       "      <td>0.984736</td>\n",
       "    </tr>\n",
       "    <tr>\n",
       "      <th>OffersScreenAppear</th>\n",
       "      <td>0.609636</td>\n",
       "    </tr>\n",
       "    <tr>\n",
       "      <th>CartScreenAppear</th>\n",
       "      <td>0.495620</td>\n",
       "    </tr>\n",
       "    <tr>\n",
       "      <th>PaymentScreenSuccessful</th>\n",
       "      <td>0.469737</td>\n",
       "    </tr>\n",
       "    <tr>\n",
       "      <th>Tutorial</th>\n",
       "      <td>0.111495</td>\n",
       "    </tr>\n",
       "  </tbody>\n",
       "</table>\n",
       "</div>"
      ],
      "text/plain": [
       "                          usuario\n",
       "evento                           \n",
       "MainScreenAppear         0.984736\n",
       "OffersScreenAppear       0.609636\n",
       "CartScreenAppear         0.495620\n",
       "PaymentScreenSuccessful  0.469737\n",
       "Tutorial                 0.111495"
      ]
     },
     "execution_count": 30,
     "metadata": {},
     "output_type": "execute_result"
    }
   ],
   "source": [
    "evento_usuario/len(datos_completos[\"usuario\"].unique()) #proporcion de usuarios que realizan cada etapa"
   ]
  },
  {
   "cell_type": "code",
   "execution_count": 31,
   "metadata": {},
   "outputs": [
    {
     "data": {
      "text/html": [
       "<div>\n",
       "<style scoped>\n",
       "    .dataframe tbody tr th:only-of-type {\n",
       "        vertical-align: middle;\n",
       "    }\n",
       "\n",
       "    .dataframe tbody tr th {\n",
       "        vertical-align: top;\n",
       "    }\n",
       "\n",
       "    .dataframe thead th {\n",
       "        text-align: right;\n",
       "    }\n",
       "</style>\n",
       "<table border=\"1\" class=\"dataframe\">\n",
       "  <thead>\n",
       "    <tr style=\"text-align: right;\">\n",
       "      <th></th>\n",
       "      <th>usuario</th>\n",
       "    </tr>\n",
       "    <tr>\n",
       "      <th>evento</th>\n",
       "      <th></th>\n",
       "    </tr>\n",
       "  </thead>\n",
       "  <tbody>\n",
       "    <tr>\n",
       "      <th>MainScreenAppear</th>\n",
       "      <td>1.000000</td>\n",
       "    </tr>\n",
       "    <tr>\n",
       "      <th>OffersScreenAppear</th>\n",
       "      <td>0.619086</td>\n",
       "    </tr>\n",
       "    <tr>\n",
       "      <th>CartScreenAppear</th>\n",
       "      <td>0.812976</td>\n",
       "    </tr>\n",
       "    <tr>\n",
       "      <th>PaymentScreenSuccessful</th>\n",
       "      <td>0.947777</td>\n",
       "    </tr>\n",
       "  </tbody>\n",
       "</table>\n",
       "</div>"
      ],
      "text/plain": [
       "                          usuario\n",
       "evento                           \n",
       "MainScreenAppear         1.000000\n",
       "OffersScreenAppear       0.619086\n",
       "CartScreenAppear         0.812976\n",
       "PaymentScreenSuccessful  0.947777"
      ]
     },
     "execution_count": 31,
     "metadata": {},
     "output_type": "execute_result"
    }
   ],
   "source": [
    "embudo = evento_usuario[:-1]\n",
    "embudo = embudo / embudo.shift() #porcentage de usuarios que avanzan a la siguiente etapa\n",
    "embudo.fillna(1)"
   ]
  },
  {
   "cell_type": "markdown",
   "metadata": {},
   "source": [
    "Al pasar de MainScreenAppear a OffersScreenAppear es cuando s epierden mas usuarios, mientras que unicamentew el 46.97% de los usuarios totales hace todo el proceso concluyindo PaymentScreenSuccessful el "
   ]
  },
  {
   "cell_type": "code",
   "execution_count": 32,
   "metadata": {},
   "outputs": [
    {
     "data": {
      "text/plain": [
       "248    84563\n",
       "246    79302\n",
       "247    77022\n",
       "Name: exp_id, dtype: int64"
      ]
     },
     "execution_count": 32,
     "metadata": {},
     "output_type": "execute_result"
    }
   ],
   "source": [
    "datos_completos[\"exp_id\"].value_counts() #Numero de usuarios por cada grupo"
   ]
  },
  {
   "cell_type": "markdown",
   "metadata": {},
   "source": [
    "## Paso 5. Estudio de resultados"
   ]
  },
  {
   "cell_type": "code",
   "execution_count": 33,
   "metadata": {},
   "outputs": [],
   "source": [
    "grupo_246 = datos_completos.query(\"exp_id == 246\")#Se separan los grupos \n",
    "grupo_247 = datos_completos.query(\"exp_id == 247\")\n",
    "grupob_248 = datos_completos.query(\"exp_id == 248\")"
   ]
  },
  {
   "cell_type": "code",
   "execution_count": null,
   "metadata": {},
   "outputs": [],
   "source": []
  },
  {
   "cell_type": "code",
   "execution_count": 34,
   "metadata": {},
   "outputs": [
    {
     "data": {
      "text/html": [
       "<div>\n",
       "<style scoped>\n",
       "    .dataframe tbody tr th:only-of-type {\n",
       "        vertical-align: middle;\n",
       "    }\n",
       "\n",
       "    .dataframe tbody tr th {\n",
       "        vertical-align: top;\n",
       "    }\n",
       "\n",
       "    .dataframe thead th {\n",
       "        text-align: right;\n",
       "    }\n",
       "</style>\n",
       "<table border=\"1\" class=\"dataframe\">\n",
       "  <thead>\n",
       "    <tr style=\"text-align: right;\">\n",
       "      <th></th>\n",
       "      <th>evento</th>\n",
       "      <th>usuario</th>\n",
       "      <th>timestamp</th>\n",
       "      <th>exp_id</th>\n",
       "      <th>fecha_evento</th>\n",
       "      <th>dia</th>\n",
       "    </tr>\n",
       "  </thead>\n",
       "  <tbody>\n",
       "    <tr>\n",
       "      <th>2828</th>\n",
       "      <td>Tutorial</td>\n",
       "      <td>3737462046622621720</td>\n",
       "      <td>1564618048</td>\n",
       "      <td>246</td>\n",
       "      <td>2019-08-01 00:07:28</td>\n",
       "      <td>2019-08-01</td>\n",
       "    </tr>\n",
       "    <tr>\n",
       "      <th>2829</th>\n",
       "      <td>MainScreenAppear</td>\n",
       "      <td>3737462046622621720</td>\n",
       "      <td>1564618080</td>\n",
       "      <td>246</td>\n",
       "      <td>2019-08-01 00:08:00</td>\n",
       "      <td>2019-08-01</td>\n",
       "    </tr>\n",
       "    <tr>\n",
       "      <th>2830</th>\n",
       "      <td>MainScreenAppear</td>\n",
       "      <td>3737462046622621720</td>\n",
       "      <td>1564618135</td>\n",
       "      <td>246</td>\n",
       "      <td>2019-08-01 00:08:55</td>\n",
       "      <td>2019-08-01</td>\n",
       "    </tr>\n",
       "    <tr>\n",
       "      <th>2831</th>\n",
       "      <td>OffersScreenAppear</td>\n",
       "      <td>3737462046622621720</td>\n",
       "      <td>1564618138</td>\n",
       "      <td>246</td>\n",
       "      <td>2019-08-01 00:08:58</td>\n",
       "      <td>2019-08-01</td>\n",
       "    </tr>\n",
       "    <tr>\n",
       "      <th>2834</th>\n",
       "      <td>OffersScreenAppear</td>\n",
       "      <td>3737462046622621720</td>\n",
       "      <td>1564618226</td>\n",
       "      <td>246</td>\n",
       "      <td>2019-08-01 00:10:26</td>\n",
       "      <td>2019-08-01</td>\n",
       "    </tr>\n",
       "    <tr>\n",
       "      <th>...</th>\n",
       "      <td>...</td>\n",
       "      <td>...</td>\n",
       "      <td>...</td>\n",
       "      <td>...</td>\n",
       "      <td>...</td>\n",
       "      <td>...</td>\n",
       "    </tr>\n",
       "    <tr>\n",
       "      <th>244120</th>\n",
       "      <td>MainScreenAppear</td>\n",
       "      <td>5746969938801999050</td>\n",
       "      <td>1565212331</td>\n",
       "      <td>246</td>\n",
       "      <td>2019-08-07 21:12:11</td>\n",
       "      <td>2019-08-07</td>\n",
       "    </tr>\n",
       "    <tr>\n",
       "      <th>244122</th>\n",
       "      <td>MainScreenAppear</td>\n",
       "      <td>5849806612437486590</td>\n",
       "      <td>1565212439</td>\n",
       "      <td>246</td>\n",
       "      <td>2019-08-07 21:13:59</td>\n",
       "      <td>2019-08-07</td>\n",
       "    </tr>\n",
       "    <tr>\n",
       "      <th>244123</th>\n",
       "      <td>MainScreenAppear</td>\n",
       "      <td>5746969938801999050</td>\n",
       "      <td>1565212483</td>\n",
       "      <td>246</td>\n",
       "      <td>2019-08-07 21:14:43</td>\n",
       "      <td>2019-08-07</td>\n",
       "    </tr>\n",
       "    <tr>\n",
       "      <th>244124</th>\n",
       "      <td>MainScreenAppear</td>\n",
       "      <td>5746969938801999050</td>\n",
       "      <td>1565212498</td>\n",
       "      <td>246</td>\n",
       "      <td>2019-08-07 21:14:58</td>\n",
       "      <td>2019-08-07</td>\n",
       "    </tr>\n",
       "    <tr>\n",
       "      <th>244125</th>\n",
       "      <td>OffersScreenAppear</td>\n",
       "      <td>5746969938801999050</td>\n",
       "      <td>1565212517</td>\n",
       "      <td>246</td>\n",
       "      <td>2019-08-07 21:15:17</td>\n",
       "      <td>2019-08-07</td>\n",
       "    </tr>\n",
       "  </tbody>\n",
       "</table>\n",
       "<p>79302 rows × 6 columns</p>\n",
       "</div>"
      ],
      "text/plain": [
       "                    evento              usuario   timestamp  exp_id  \\\n",
       "2828              Tutorial  3737462046622621720  1564618048     246   \n",
       "2829      MainScreenAppear  3737462046622621720  1564618080     246   \n",
       "2830      MainScreenAppear  3737462046622621720  1564618135     246   \n",
       "2831    OffersScreenAppear  3737462046622621720  1564618138     246   \n",
       "2834    OffersScreenAppear  3737462046622621720  1564618226     246   \n",
       "...                    ...                  ...         ...     ...   \n",
       "244120    MainScreenAppear  5746969938801999050  1565212331     246   \n",
       "244122    MainScreenAppear  5849806612437486590  1565212439     246   \n",
       "244123    MainScreenAppear  5746969938801999050  1565212483     246   \n",
       "244124    MainScreenAppear  5746969938801999050  1565212498     246   \n",
       "244125  OffersScreenAppear  5746969938801999050  1565212517     246   \n",
       "\n",
       "              fecha_evento        dia  \n",
       "2828   2019-08-01 00:07:28 2019-08-01  \n",
       "2829   2019-08-01 00:08:00 2019-08-01  \n",
       "2830   2019-08-01 00:08:55 2019-08-01  \n",
       "2831   2019-08-01 00:08:58 2019-08-01  \n",
       "2834   2019-08-01 00:10:26 2019-08-01  \n",
       "...                    ...        ...  \n",
       "244120 2019-08-07 21:12:11 2019-08-07  \n",
       "244122 2019-08-07 21:13:59 2019-08-07  \n",
       "244123 2019-08-07 21:14:43 2019-08-07  \n",
       "244124 2019-08-07 21:14:58 2019-08-07  \n",
       "244125 2019-08-07 21:15:17 2019-08-07  \n",
       "\n",
       "[79302 rows x 6 columns]"
      ]
     },
     "execution_count": 34,
     "metadata": {},
     "output_type": "execute_result"
    }
   ],
   "source": [
    "grupo_246"
   ]
  },
  {
   "cell_type": "code",
   "execution_count": 35,
   "metadata": {},
   "outputs": [],
   "source": [
    "eventos_246 = grupo_246.groupby('usuario').size() #agurpa por usuario el numero d eeventos para el grupo 246\n",
    "eventos_247 = grupo_247.groupby('usuario').size() #agurpa por usuario el numero d eeventos para el grupo 247"
   ]
  },
  {
   "cell_type": "code",
   "execution_count": 36,
   "metadata": {},
   "outputs": [
    {
     "data": {
      "image/png": "[encoded data removed]",
      "text/plain": [
       "<Figure size 640x480 with 1 Axes>"
      ]
     },
     "metadata": {},
     "output_type": "display_data"
    }
   ],
   "source": [
    "eventos_246.hist(bins=100, alpha = .5)\n",
    "eventos_247.hist(bins=100, alpha = .5)\n",
    "plt.xlabel('Eventos por usuario')\n",
    "plt.ylabel('Cantidad de usuarios')\n",
    "plt.title('Distribución de eventos - Grupo 246 y 247')\n",
    "plt.show()\n"
   ]
  },
  {
   "cell_type": "code",
   "execution_count": 37,
   "metadata": {},
   "outputs": [
    {
     "name": "stdout",
     "output_type": "stream",
     "text": [
      "Con un valor p = 0.8722, no se considera ningana diferencia estadistica entre el grupo 246 y 247\n"
     ]
    }
   ],
   "source": [
    "u_stat, p_value = stats.mannwhitneyu(eventos_246, eventos_247, alternative='two-sided') #Se realiza prueba mannwhitneyu buscando diferencia entre los grupos\n",
    "print(f\"Con un valor p = {p_value:.4f}, no se considera ningana diferencia estadistica entre el grupo 246 y 247\")"
   ]
  },
  {
   "cell_type": "code",
   "execution_count": 38,
   "metadata": {},
   "outputs": [],
   "source": [
    "def analizar_eventos(df, grupo_a, grupo_b, columna_evento='evento', columna_usuario='usuario', columna_grupo='exp_id'):\n",
    "    resultados = []\n",
    "\n",
    "    eventos = df[columna_evento].unique()\n",
    "\n",
    "    for evento in eventos:\n",
    "        # Filtrar por grupo y evento\n",
    "        grupo_a_evento = df[(df[columna_grupo] == grupo_a) & (df[columna_evento] == evento)]\n",
    "        grupo_b_evento = df[(df[columna_grupo] == grupo_b) & (df[columna_evento] == evento)]\n",
    "\n",
    "        # Contar eventos por usuario\n",
    "        eventos_por_usuario_a = grupo_a_evento.groupby(columna_usuario).size()\n",
    "        eventos_por_usuario_b = grupo_b_evento.groupby(columna_usuario).size()\n",
    "\n",
    "        # Aplicar la prueba Mann-Whitney U\n",
    "        if len(eventos_por_usuario_a) > 0 and len(eventos_por_usuario_b) > 0:\n",
    "            u_stat, p_value = stats.mannwhitneyu(eventos_por_usuario_a, eventos_por_usuario_b, alternative='two-sided')\n",
    "        else:\n",
    "            u_stat, p_value = None, None  # Si no hay datos suficientes\n",
    "\n",
    "        resultados.append({\n",
    "            'evento': evento,\n",
    "            'usuarios_246': eventos_por_usuario_a.count(),\n",
    "            'usuarios_247': eventos_por_usuario_b.count(),\n",
    "            'media_eventos_246': round(eventos_por_usuario_a.mean(), 2),\n",
    "            'media_eventos_247': round(eventos_por_usuario_b.mean(), 2),\n",
    "            'p_valor': round(p_value, 4) if p_value is not None else 'n/a',\n",
    "            'significativo': p_value < .05 if p_value is not None else 'n/a'\n",
    "        })\n",
    "\n",
    "    return pd.DataFrame(resultados)\n"
   ]
  },
  {
   "cell_type": "code",
   "execution_count": 39,
   "metadata": {},
   "outputs": [
    {
     "data": {
      "text/html": [
       "<div>\n",
       "<style scoped>\n",
       "    .dataframe tbody tr th:only-of-type {\n",
       "        vertical-align: middle;\n",
       "    }\n",
       "\n",
       "    .dataframe tbody tr th {\n",
       "        vertical-align: top;\n",
       "    }\n",
       "\n",
       "    .dataframe thead th {\n",
       "        text-align: right;\n",
       "    }\n",
       "</style>\n",
       "<table border=\"1\" class=\"dataframe\">\n",
       "  <thead>\n",
       "    <tr style=\"text-align: right;\">\n",
       "      <th></th>\n",
       "      <th>evento</th>\n",
       "      <th>usuarios_246</th>\n",
       "      <th>usuarios_247</th>\n",
       "      <th>media_eventos_246</th>\n",
       "      <th>media_eventos_247</th>\n",
       "      <th>p_valor</th>\n",
       "      <th>significativo</th>\n",
       "    </tr>\n",
       "  </thead>\n",
       "  <tbody>\n",
       "    <tr>\n",
       "      <th>4</th>\n",
       "      <td>PaymentScreenSuccessful</td>\n",
       "      <td>1200</td>\n",
       "      <td>1158</td>\n",
       "      <td>9.88</td>\n",
       "      <td>8.62</td>\n",
       "      <td>0.4063</td>\n",
       "      <td>False</td>\n",
       "    </tr>\n",
       "    <tr>\n",
       "      <th>3</th>\n",
       "      <td>CartScreenAppear</td>\n",
       "      <td>1266</td>\n",
       "      <td>1238</td>\n",
       "      <td>11.60</td>\n",
       "      <td>10.04</td>\n",
       "      <td>0.4601</td>\n",
       "      <td>False</td>\n",
       "    </tr>\n",
       "    <tr>\n",
       "      <th>0</th>\n",
       "      <td>Tutorial</td>\n",
       "      <td>278</td>\n",
       "      <td>283</td>\n",
       "      <td>1.14</td>\n",
       "      <td>1.19</td>\n",
       "      <td>0.5173</td>\n",
       "      <td>False</td>\n",
       "    </tr>\n",
       "    <tr>\n",
       "      <th>1</th>\n",
       "      <td>MainScreenAppear</td>\n",
       "      <td>2450</td>\n",
       "      <td>2476</td>\n",
       "      <td>15.38</td>\n",
       "      <td>15.79</td>\n",
       "      <td>0.6616</td>\n",
       "      <td>False</td>\n",
       "    </tr>\n",
       "    <tr>\n",
       "      <th>2</th>\n",
       "      <td>OffersScreenAppear</td>\n",
       "      <td>1542</td>\n",
       "      <td>1520</td>\n",
       "      <td>9.58</td>\n",
       "      <td>9.99</td>\n",
       "      <td>0.8436</td>\n",
       "      <td>False</td>\n",
       "    </tr>\n",
       "  </tbody>\n",
       "</table>\n",
       "</div>"
      ],
      "text/plain": [
       "                    evento  usuarios_246  usuarios_247  media_eventos_246  \\\n",
       "4  PaymentScreenSuccessful          1200          1158               9.88   \n",
       "3         CartScreenAppear          1266          1238              11.60   \n",
       "0                 Tutorial           278           283               1.14   \n",
       "1         MainScreenAppear          2450          2476              15.38   \n",
       "2       OffersScreenAppear          1542          1520               9.58   \n",
       "\n",
       "   media_eventos_247  p_valor  significativo  \n",
       "4               8.62   0.4063          False  \n",
       "3              10.04   0.4601          False  \n",
       "0               1.19   0.5173          False  \n",
       "1              15.79   0.6616          False  \n",
       "2               9.99   0.8436          False  "
      ]
     },
     "execution_count": 39,
     "metadata": {},
     "output_type": "execute_result"
    }
   ],
   "source": [
    "resultados_eventos = analizar_eventos(datos_completos, 246, 247) #Se llama la funcion para comparar diferencias estadisticamente significativas en la fases entre los grupos d econtrol\n",
    "resultados_eventos.sort_values('p_valor')\n"
   ]
  },
  {
   "cell_type": "markdown",
   "metadata": {},
   "source": [
    "No hay ninguna evidencia estadisticamente sifnigficativa en ninguna fase del embudo "
   ]
  },
  {
   "cell_type": "code",
   "execution_count": 40,
   "metadata": {},
   "outputs": [
    {
     "data": {
      "text/html": [
       "<div>\n",
       "<style scoped>\n",
       "    .dataframe tbody tr th:only-of-type {\n",
       "        vertical-align: middle;\n",
       "    }\n",
       "\n",
       "    .dataframe tbody tr th {\n",
       "        vertical-align: top;\n",
       "    }\n",
       "\n",
       "    .dataframe thead th {\n",
       "        text-align: right;\n",
       "    }\n",
       "</style>\n",
       "<table border=\"1\" class=\"dataframe\">\n",
       "  <thead>\n",
       "    <tr style=\"text-align: right;\">\n",
       "      <th></th>\n",
       "      <th>evento</th>\n",
       "      <th>usuarios_246</th>\n",
       "      <th>usuarios_247</th>\n",
       "      <th>media_eventos_246</th>\n",
       "      <th>media_eventos_247</th>\n",
       "      <th>p_valor</th>\n",
       "      <th>significativo</th>\n",
       "    </tr>\n",
       "  </thead>\n",
       "  <tbody>\n",
       "    <tr>\n",
       "      <th>3</th>\n",
       "      <td>CartScreenAppear</td>\n",
       "      <td>1266</td>\n",
       "      <td>1230</td>\n",
       "      <td>11.60</td>\n",
       "      <td>12.34</td>\n",
       "      <td>0.0949</td>\n",
       "      <td>False</td>\n",
       "    </tr>\n",
       "    <tr>\n",
       "      <th>1</th>\n",
       "      <td>MainScreenAppear</td>\n",
       "      <td>2450</td>\n",
       "      <td>2493</td>\n",
       "      <td>15.38</td>\n",
       "      <td>16.27</td>\n",
       "      <td>0.0955</td>\n",
       "      <td>False</td>\n",
       "    </tr>\n",
       "    <tr>\n",
       "      <th>0</th>\n",
       "      <td>Tutorial</td>\n",
       "      <td>278</td>\n",
       "      <td>279</td>\n",
       "      <td>1.14</td>\n",
       "      <td>1.25</td>\n",
       "      <td>0.1726</td>\n",
       "      <td>False</td>\n",
       "    </tr>\n",
       "    <tr>\n",
       "      <th>4</th>\n",
       "      <td>PaymentScreenSuccessful</td>\n",
       "      <td>1200</td>\n",
       "      <td>1181</td>\n",
       "      <td>9.88</td>\n",
       "      <td>10.23</td>\n",
       "      <td>0.5662</td>\n",
       "      <td>False</td>\n",
       "    </tr>\n",
       "    <tr>\n",
       "      <th>2</th>\n",
       "      <td>OffersScreenAppear</td>\n",
       "      <td>1542</td>\n",
       "      <td>1531</td>\n",
       "      <td>9.58</td>\n",
       "      <td>10.70</td>\n",
       "      <td>0.7226</td>\n",
       "      <td>False</td>\n",
       "    </tr>\n",
       "  </tbody>\n",
       "</table>\n",
       "</div>"
      ],
      "text/plain": [
       "                    evento  usuarios_246  usuarios_247  media_eventos_246  \\\n",
       "3         CartScreenAppear          1266          1230              11.60   \n",
       "1         MainScreenAppear          2450          2493              15.38   \n",
       "0                 Tutorial           278           279               1.14   \n",
       "4  PaymentScreenSuccessful          1200          1181               9.88   \n",
       "2       OffersScreenAppear          1542          1531               9.58   \n",
       "\n",
       "   media_eventos_247  p_valor  significativo  \n",
       "3              12.34   0.0949          False  \n",
       "1              16.27   0.0955          False  \n",
       "0               1.25   0.1726          False  \n",
       "4              10.23   0.5662          False  \n",
       "2              10.70   0.7226          False  "
      ]
     },
     "execution_count": 40,
     "metadata": {},
     "output_type": "execute_result"
    }
   ],
   "source": [
    "resultados_eventos = analizar_eventos(datos_completos, 246, 248) #Se realiza la prueba con el gruop de control 246 y el de prueba\n",
    "resultados_eventos.sort_values('p_valor')"
   ]
  },
  {
   "cell_type": "code",
   "execution_count": 41,
   "metadata": {},
   "outputs": [
    {
     "data": {
      "text/html": [
       "<div>\n",
       "<style scoped>\n",
       "    .dataframe tbody tr th:only-of-type {\n",
       "        vertical-align: middle;\n",
       "    }\n",
       "\n",
       "    .dataframe tbody tr th {\n",
       "        vertical-align: top;\n",
       "    }\n",
       "\n",
       "    .dataframe thead th {\n",
       "        text-align: right;\n",
       "    }\n",
       "</style>\n",
       "<table border=\"1\" class=\"dataframe\">\n",
       "  <thead>\n",
       "    <tr style=\"text-align: right;\">\n",
       "      <th></th>\n",
       "      <th>evento</th>\n",
       "      <th>usuarios_246</th>\n",
       "      <th>usuarios_247</th>\n",
       "      <th>media_eventos_246</th>\n",
       "      <th>media_eventos_247</th>\n",
       "      <th>p_valor</th>\n",
       "      <th>significativo</th>\n",
       "    </tr>\n",
       "  </thead>\n",
       "  <tbody>\n",
       "    <tr>\n",
       "      <th>3</th>\n",
       "      <td>CartScreenAppear</td>\n",
       "      <td>1238</td>\n",
       "      <td>1230</td>\n",
       "      <td>10.04</td>\n",
       "      <td>12.34</td>\n",
       "      <td>0.0137</td>\n",
       "      <td>True</td>\n",
       "    </tr>\n",
       "    <tr>\n",
       "      <th>4</th>\n",
       "      <td>PaymentScreenSuccessful</td>\n",
       "      <td>1158</td>\n",
       "      <td>1181</td>\n",
       "      <td>8.62</td>\n",
       "      <td>10.23</td>\n",
       "      <td>0.1525</td>\n",
       "      <td>False</td>\n",
       "    </tr>\n",
       "    <tr>\n",
       "      <th>1</th>\n",
       "      <td>MainScreenAppear</td>\n",
       "      <td>2476</td>\n",
       "      <td>2493</td>\n",
       "      <td>15.79</td>\n",
       "      <td>16.27</td>\n",
       "      <td>0.2282</td>\n",
       "      <td>False</td>\n",
       "    </tr>\n",
       "    <tr>\n",
       "      <th>0</th>\n",
       "      <td>Tutorial</td>\n",
       "      <td>283</td>\n",
       "      <td>279</td>\n",
       "      <td>1.19</td>\n",
       "      <td>1.25</td>\n",
       "      <td>0.4672</td>\n",
       "      <td>False</td>\n",
       "    </tr>\n",
       "    <tr>\n",
       "      <th>2</th>\n",
       "      <td>OffersScreenAppear</td>\n",
       "      <td>1520</td>\n",
       "      <td>1531</td>\n",
       "      <td>9.99</td>\n",
       "      <td>10.70</td>\n",
       "      <td>0.8849</td>\n",
       "      <td>False</td>\n",
       "    </tr>\n",
       "  </tbody>\n",
       "</table>\n",
       "</div>"
      ],
      "text/plain": [
       "                    evento  usuarios_246  usuarios_247  media_eventos_246  \\\n",
       "3         CartScreenAppear          1238          1230              10.04   \n",
       "4  PaymentScreenSuccessful          1158          1181               8.62   \n",
       "1         MainScreenAppear          2476          2493              15.79   \n",
       "0                 Tutorial           283           279               1.19   \n",
       "2       OffersScreenAppear          1520          1531               9.99   \n",
       "\n",
       "   media_eventos_247  p_valor  significativo  \n",
       "3              12.34   0.0137           True  \n",
       "4              10.23   0.1525          False  \n",
       "1              16.27   0.2282          False  \n",
       "0               1.25   0.4672          False  \n",
       "2              10.70   0.8849          False  "
      ]
     },
     "execution_count": 41,
     "metadata": {},
     "output_type": "execute_result"
    }
   ],
   "source": [
    "resultados_eventos = analizar_eventos(datos_completos, 247, 248) #Se realiza la prueba con el gruop de control 247 y el de prueba\n",
    "resultados_eventos.sort_values('p_valor')"
   ]
  },
  {
   "cell_type": "code",
   "execution_count": 42,
   "metadata": {},
   "outputs": [
    {
     "name": "stdout",
     "output_type": "stream",
     "text": [
      "Número de pruebas realizadas: 15 con un nivel de significancia de .05\n"
     ]
    }
   ],
   "source": [
    "num_pruebas = datos_completos['evento'].nunique()*datos_completos['exp_id'].nunique()\n",
    "print(f\"Número de pruebas realizadas: {num_pruebas} con un nivel de significancia de .05\")\n"
   ]
  },
  {
   "cell_type": "code",
   "execution_count": 43,
   "metadata": {},
   "outputs": [],
   "source": [
    "alpha = .05 / num_pruebas\n",
    "def analizar_eventos(df, grupo_a, grupo_b, columna_evento='evento', columna_usuario='usuario', columna_grupo='exp_id'):\n",
    "    resultados = []\n",
    "\n",
    "    eventos = df[columna_evento].unique()\n",
    "\n",
    "    for evento in eventos:\n",
    "        # Filtrar por grupo y evento\n",
    "        grupo_a_evento = df[(df[columna_grupo] == grupo_a) & (df[columna_evento] == evento)]\n",
    "        grupo_b_evento = df[(df[columna_grupo] == grupo_b) & (df[columna_evento] == evento)]\n",
    "\n",
    "        # Contar eventos por usuario\n",
    "        eventos_por_usuario_a = grupo_a_evento.groupby(columna_usuario).size()\n",
    "        eventos_por_usuario_b = grupo_b_evento.groupby(columna_usuario).size()\n",
    "\n",
    "        # Aplicar la prueba Mann-Whitney U\n",
    "        if len(eventos_por_usuario_a) > 0 and len(eventos_por_usuario_b) > 0:\n",
    "            u_stat, p_value = stats.mannwhitneyu(eventos_por_usuario_a, eventos_por_usuario_b, alternative='two-sided')\n",
    "        else:\n",
    "            u_stat, p_value = None, None  # Si no hay datos suficientes\n",
    "\n",
    "        resultados.append({\n",
    "            'evento': evento,\n",
    "            'usuarios_246': eventos_por_usuario_a.count(),\n",
    "            'usuarios_247': eventos_por_usuario_b.count(),\n",
    "            'media_eventos_246': round(eventos_por_usuario_a.mean(), 2),\n",
    "            'media_eventos_247': round(eventos_por_usuario_b.mean(), 2),\n",
    "            'p_valor': round(p_value, 4) if p_value is not None else 'n/a',\n",
    "            'significativo': p_value < alpha if p_value is not None else 'n/a'\n",
    "        })\n",
    "\n",
    "    return pd.DataFrame(resultados)\n"
   ]
  },
  {
   "cell_type": "code",
   "execution_count": 44,
   "metadata": {},
   "outputs": [
    {
     "name": "stdout",
     "output_type": "stream",
     "text": [
      "Nuevo alpha:  0.0033333333333333335\n"
     ]
    }
   ],
   "source": [
    "print(\"Nuevo alpha: \", alpha)"
   ]
  },
  {
   "cell_type": "code",
   "execution_count": 45,
   "metadata": {},
   "outputs": [
    {
     "data": {
      "text/html": [
       "<div>\n",
       "<style scoped>\n",
       "    .dataframe tbody tr th:only-of-type {\n",
       "        vertical-align: middle;\n",
       "    }\n",
       "\n",
       "    .dataframe tbody tr th {\n",
       "        vertical-align: top;\n",
       "    }\n",
       "\n",
       "    .dataframe thead th {\n",
       "        text-align: right;\n",
       "    }\n",
       "</style>\n",
       "<table border=\"1\" class=\"dataframe\">\n",
       "  <thead>\n",
       "    <tr style=\"text-align: right;\">\n",
       "      <th></th>\n",
       "      <th>evento</th>\n",
       "      <th>usuarios_246</th>\n",
       "      <th>usuarios_247</th>\n",
       "      <th>media_eventos_246</th>\n",
       "      <th>media_eventos_247</th>\n",
       "      <th>p_valor</th>\n",
       "      <th>significativo</th>\n",
       "    </tr>\n",
       "  </thead>\n",
       "  <tbody>\n",
       "    <tr>\n",
       "      <th>4</th>\n",
       "      <td>PaymentScreenSuccessful</td>\n",
       "      <td>1200</td>\n",
       "      <td>1158</td>\n",
       "      <td>9.88</td>\n",
       "      <td>8.62</td>\n",
       "      <td>0.4063</td>\n",
       "      <td>False</td>\n",
       "    </tr>\n",
       "    <tr>\n",
       "      <th>3</th>\n",
       "      <td>CartScreenAppear</td>\n",
       "      <td>1266</td>\n",
       "      <td>1238</td>\n",
       "      <td>11.60</td>\n",
       "      <td>10.04</td>\n",
       "      <td>0.4601</td>\n",
       "      <td>False</td>\n",
       "    </tr>\n",
       "    <tr>\n",
       "      <th>0</th>\n",
       "      <td>Tutorial</td>\n",
       "      <td>278</td>\n",
       "      <td>283</td>\n",
       "      <td>1.14</td>\n",
       "      <td>1.19</td>\n",
       "      <td>0.5173</td>\n",
       "      <td>False</td>\n",
       "    </tr>\n",
       "    <tr>\n",
       "      <th>1</th>\n",
       "      <td>MainScreenAppear</td>\n",
       "      <td>2450</td>\n",
       "      <td>2476</td>\n",
       "      <td>15.38</td>\n",
       "      <td>15.79</td>\n",
       "      <td>0.6616</td>\n",
       "      <td>False</td>\n",
       "    </tr>\n",
       "    <tr>\n",
       "      <th>2</th>\n",
       "      <td>OffersScreenAppear</td>\n",
       "      <td>1542</td>\n",
       "      <td>1520</td>\n",
       "      <td>9.58</td>\n",
       "      <td>9.99</td>\n",
       "      <td>0.8436</td>\n",
       "      <td>False</td>\n",
       "    </tr>\n",
       "  </tbody>\n",
       "</table>\n",
       "</div>"
      ],
      "text/plain": [
       "                    evento  usuarios_246  usuarios_247  media_eventos_246  \\\n",
       "4  PaymentScreenSuccessful          1200          1158               9.88   \n",
       "3         CartScreenAppear          1266          1238              11.60   \n",
       "0                 Tutorial           278           283               1.14   \n",
       "1         MainScreenAppear          2450          2476              15.38   \n",
       "2       OffersScreenAppear          1542          1520               9.58   \n",
       "\n",
       "   media_eventos_247  p_valor  significativo  \n",
       "4               8.62   0.4063          False  \n",
       "3              10.04   0.4601          False  \n",
       "0               1.19   0.5173          False  \n",
       "1              15.79   0.6616          False  \n",
       "2               9.99   0.8436          False  "
      ]
     },
     "execution_count": 45,
     "metadata": {},
     "output_type": "execute_result"
    }
   ],
   "source": [
    "resultados_eventos = analizar_eventos(datos_completos, 246, 247) #Se llama la funcion para comparar diferencias estadisticamente significativas en la fases entre los grupos d econtrol\n",
    "resultados_eventos.sort_values('p_valor')\n"
   ]
  },
  {
   "cell_type": "code",
   "execution_count": 46,
   "metadata": {},
   "outputs": [
    {
     "data": {
      "text/html": [
       "<div>\n",
       "<style scoped>\n",
       "    .dataframe tbody tr th:only-of-type {\n",
       "        vertical-align: middle;\n",
       "    }\n",
       "\n",
       "    .dataframe tbody tr th {\n",
       "        vertical-align: top;\n",
       "    }\n",
       "\n",
       "    .dataframe thead th {\n",
       "        text-align: right;\n",
       "    }\n",
       "</style>\n",
       "<table border=\"1\" class=\"dataframe\">\n",
       "  <thead>\n",
       "    <tr style=\"text-align: right;\">\n",
       "      <th></th>\n",
       "      <th>evento</th>\n",
       "      <th>usuarios_246</th>\n",
       "      <th>usuarios_247</th>\n",
       "      <th>media_eventos_246</th>\n",
       "      <th>media_eventos_247</th>\n",
       "      <th>p_valor</th>\n",
       "      <th>significativo</th>\n",
       "    </tr>\n",
       "  </thead>\n",
       "  <tbody>\n",
       "    <tr>\n",
       "      <th>3</th>\n",
       "      <td>CartScreenAppear</td>\n",
       "      <td>1266</td>\n",
       "      <td>1230</td>\n",
       "      <td>11.60</td>\n",
       "      <td>12.34</td>\n",
       "      <td>0.0949</td>\n",
       "      <td>False</td>\n",
       "    </tr>\n",
       "    <tr>\n",
       "      <th>1</th>\n",
       "      <td>MainScreenAppear</td>\n",
       "      <td>2450</td>\n",
       "      <td>2493</td>\n",
       "      <td>15.38</td>\n",
       "      <td>16.27</td>\n",
       "      <td>0.0955</td>\n",
       "      <td>False</td>\n",
       "    </tr>\n",
       "    <tr>\n",
       "      <th>0</th>\n",
       "      <td>Tutorial</td>\n",
       "      <td>278</td>\n",
       "      <td>279</td>\n",
       "      <td>1.14</td>\n",
       "      <td>1.25</td>\n",
       "      <td>0.1726</td>\n",
       "      <td>False</td>\n",
       "    </tr>\n",
       "    <tr>\n",
       "      <th>4</th>\n",
       "      <td>PaymentScreenSuccessful</td>\n",
       "      <td>1200</td>\n",
       "      <td>1181</td>\n",
       "      <td>9.88</td>\n",
       "      <td>10.23</td>\n",
       "      <td>0.5662</td>\n",
       "      <td>False</td>\n",
       "    </tr>\n",
       "    <tr>\n",
       "      <th>2</th>\n",
       "      <td>OffersScreenAppear</td>\n",
       "      <td>1542</td>\n",
       "      <td>1531</td>\n",
       "      <td>9.58</td>\n",
       "      <td>10.70</td>\n",
       "      <td>0.7226</td>\n",
       "      <td>False</td>\n",
       "    </tr>\n",
       "  </tbody>\n",
       "</table>\n",
       "</div>"
      ],
      "text/plain": [
       "                    evento  usuarios_246  usuarios_247  media_eventos_246  \\\n",
       "3         CartScreenAppear          1266          1230              11.60   \n",
       "1         MainScreenAppear          2450          2493              15.38   \n",
       "0                 Tutorial           278           279               1.14   \n",
       "4  PaymentScreenSuccessful          1200          1181               9.88   \n",
       "2       OffersScreenAppear          1542          1531               9.58   \n",
       "\n",
       "   media_eventos_247  p_valor  significativo  \n",
       "3              12.34   0.0949          False  \n",
       "1              16.27   0.0955          False  \n",
       "0               1.25   0.1726          False  \n",
       "4              10.23   0.5662          False  \n",
       "2              10.70   0.7226          False  "
      ]
     },
     "execution_count": 46,
     "metadata": {},
     "output_type": "execute_result"
    }
   ],
   "source": [
    "resultados_eventos = analizar_eventos(datos_completos, 246, 248) #Se realiza la prueba con el gruop de control 246 y el de prueba\n",
    "resultados_eventos.sort_values('p_valor')"
   ]
  },
  {
   "cell_type": "code",
   "execution_count": 47,
   "metadata": {},
   "outputs": [
    {
     "data": {
      "text/html": [
       "<div>\n",
       "<style scoped>\n",
       "    .dataframe tbody tr th:only-of-type {\n",
       "        vertical-align: middle;\n",
       "    }\n",
       "\n",
       "    .dataframe tbody tr th {\n",
       "        vertical-align: top;\n",
       "    }\n",
       "\n",
       "    .dataframe thead th {\n",
       "        text-align: right;\n",
       "    }\n",
       "</style>\n",
       "<table border=\"1\" class=\"dataframe\">\n",
       "  <thead>\n",
       "    <tr style=\"text-align: right;\">\n",
       "      <th></th>\n",
       "      <th>evento</th>\n",
       "      <th>usuarios_246</th>\n",
       "      <th>usuarios_247</th>\n",
       "      <th>media_eventos_246</th>\n",
       "      <th>media_eventos_247</th>\n",
       "      <th>p_valor</th>\n",
       "      <th>significativo</th>\n",
       "    </tr>\n",
       "  </thead>\n",
       "  <tbody>\n",
       "    <tr>\n",
       "      <th>3</th>\n",
       "      <td>CartScreenAppear</td>\n",
       "      <td>1238</td>\n",
       "      <td>1230</td>\n",
       "      <td>10.04</td>\n",
       "      <td>12.34</td>\n",
       "      <td>0.0137</td>\n",
       "      <td>False</td>\n",
       "    </tr>\n",
       "    <tr>\n",
       "      <th>4</th>\n",
       "      <td>PaymentScreenSuccessful</td>\n",
       "      <td>1158</td>\n",
       "      <td>1181</td>\n",
       "      <td>8.62</td>\n",
       "      <td>10.23</td>\n",
       "      <td>0.1525</td>\n",
       "      <td>False</td>\n",
       "    </tr>\n",
       "    <tr>\n",
       "      <th>1</th>\n",
       "      <td>MainScreenAppear</td>\n",
       "      <td>2476</td>\n",
       "      <td>2493</td>\n",
       "      <td>15.79</td>\n",
       "      <td>16.27</td>\n",
       "      <td>0.2282</td>\n",
       "      <td>False</td>\n",
       "    </tr>\n",
       "    <tr>\n",
       "      <th>0</th>\n",
       "      <td>Tutorial</td>\n",
       "      <td>283</td>\n",
       "      <td>279</td>\n",
       "      <td>1.19</td>\n",
       "      <td>1.25</td>\n",
       "      <td>0.4672</td>\n",
       "      <td>False</td>\n",
       "    </tr>\n",
       "    <tr>\n",
       "      <th>2</th>\n",
       "      <td>OffersScreenAppear</td>\n",
       "      <td>1520</td>\n",
       "      <td>1531</td>\n",
       "      <td>9.99</td>\n",
       "      <td>10.70</td>\n",
       "      <td>0.8849</td>\n",
       "      <td>False</td>\n",
       "    </tr>\n",
       "  </tbody>\n",
       "</table>\n",
       "</div>"
      ],
      "text/plain": [
       "                    evento  usuarios_246  usuarios_247  media_eventos_246  \\\n",
       "3         CartScreenAppear          1238          1230              10.04   \n",
       "4  PaymentScreenSuccessful          1158          1181               8.62   \n",
       "1         MainScreenAppear          2476          2493              15.79   \n",
       "0                 Tutorial           283           279               1.19   \n",
       "2       OffersScreenAppear          1520          1531               9.99   \n",
       "\n",
       "   media_eventos_247  p_valor  significativo  \n",
       "3              12.34   0.0137          False  \n",
       "4              10.23   0.1525          False  \n",
       "1              16.27   0.2282          False  \n",
       "0               1.25   0.4672          False  \n",
       "2              10.70   0.8849          False  "
      ]
     },
     "execution_count": 47,
     "metadata": {},
     "output_type": "execute_result"
    }
   ],
   "source": [
    "resultados_eventos = analizar_eventos(datos_completos, 247, 248) #Se realiza la prueba con el gruop de control 247 y el de prueba\n",
    "resultados_eventos.sort_values('p_valor')"
   ]
  },
  {
   "cell_type": "markdown",
   "metadata": {},
   "source": [
    "No hay evidencia estadisticamente significatica que demuestre que el cambiar el tipo d eletra afecte el comportamiento de los usuarios, por lo cual se podria cambiar este sin mayor problema."
   ]
  }
 ],
 "metadata": {
  "kernelspec": {
   "display_name": "Python 3 (ipykernel)",
   "language": "python",
   "name": "python3"
  },
  "language_info": {
   "codemirror_mode": {
    "name": "ipython",
    "version": 3
   },
   "file_extension": ".py",
   "mimetype": "text/x-python",
   "name": "python",
   "nbconvert_exporter": "python",
   "pygments_lexer": "ipython3",
   "version": "3.9.23"
  }
 },
 "nbformat": 4,
 "nbformat_minor": 4
}
